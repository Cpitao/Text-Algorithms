{
 "cells": [
  {
   "cell_type": "markdown",
   "metadata": {},
   "source": [
    "# Algorytmy tekstowe. Zadanie 1 - Piotr Ignacy"
   ]
  },
  {
   "cell_type": "markdown",
   "metadata": {},
   "source": [
    "## Różne rodzaje alfabetów"
   ]
  },
  {
   "cell_type": "markdown",
   "metadata": {},
   "source": [
    "Na potrzeby testów możemy przetestować (dla algorytmu wykorzystującego automat skończony), jak długo program wykonuje się dla różnych rozmiarów alfabetów. Można też konstruować alfabet w oparciu o sam pattern, a wszystkie znaki które nie występują we wzorze traktować jako \"inne\"."
   ]
  },
  {
   "cell_type": "code",
   "execution_count": 1,
   "metadata": {},
   "outputs": [],
   "source": [
    "alphabet255 = set(chr(i) for i in range(255))\n",
    "alphabetAlphanum = set(chr(ord('A') + i) for i in range(ord('Z')-ord('A') + 1))\n",
    "alphabetAlphanum.update(set(chr(ord('a') + i) for i in range(ord('z')-ord('a') + 1)))\n",
    "alphabetAlphanum.update(set(chr(ord('0') + i) for i in range(10)))\n",
    "bigAlphabet = set(chr(i) for i in range(1024 * 16))"
   ]
  },
  {
   "cell_type": "markdown",
   "metadata": {},
   "source": [
    "## Implementacje"
   ]
  },
  {
   "cell_type": "markdown",
   "metadata": {},
   "source": [
    "Poniższe implementacje opierają się o kod z wykładu. Algorytm automatu skończonego zmodyfikowano dodatkowo o sprawdzanie, czy znak z tekstu należy do alfabetu (w przeciwnym razie przy sprawdzaniu takiego znaku otrzymywalibyśmy wyjątek). Jeśli nie należy - stan zmieniamy na 0. Możemy zauważyć, że poświęcając trochę więcej czasu na preprocessing, moglibyśmy nasz alfabet skonstruować w oparciu jedynie o wzorzec, a pozostałe znaki w nim niewystępujące traktować jako \"inne\"."
   ]
  },
  {
   "cell_type": "markdown",
   "metadata": {},
   "source": [
    "### 1. Algorytm naiwny"
   ]
  },
  {
   "cell_type": "code",
   "execution_count": 2,
   "metadata": {},
   "outputs": [],
   "source": [
    "def naive_match(text, pattern):\n",
    "    n, m = len(text), len(pattern)\n",
    "    matches = []\n",
    "    for i in range(n-m+1):\n",
    "        if text[i:i+m] == pattern:\n",
    "            matches.append(i)\n",
    "    \n",
    "    return matches"
   ]
  },
  {
   "cell_type": "markdown",
   "metadata": {},
   "source": [
    "### 2. Automat skończony"
   ]
  },
  {
   "cell_type": "code",
   "execution_count": 3,
   "metadata": {},
   "outputs": [],
   "source": [
    "# finite state machine function\n",
    "def fsm_function(pattern, alphabet):\n",
    "    n = len(pattern)\n",
    "    result = [{} for _ in range(n + 1)]\n",
    "\n",
    "    for i in range(n + 1):\n",
    "        for c in alphabet:\n",
    "            k = min(n + 1, i + 2)\n",
    "            while True:\n",
    "                k -= 1\n",
    "                if k == 0 or pattern[:k] == (pattern[:i] + c)[-k:]:\n",
    "                    break\n",
    "            result[i][c] = k\n",
    "    #print(result)\n",
    "    return result"
   ]
  },
  {
   "cell_type": "code",
   "execution_count": 4,
   "metadata": {},
   "outputs": [],
   "source": [
    "def fsm_match(text, transitions, alphabet):\n",
    "    n, m = len(text), len(transitions) - 1\n",
    "    state = 0\n",
    "    matches = []\n",
    "    for i in range(n):\n",
    "        # saves the algorithm from crashing when a character is not in our alphabet\n",
    "        # the alphabet can actually be optimized and reduced to characters in our pattern\n",
    "        if text[i] not in alphabet:\n",
    "            state = 0\n",
    "            continue\n",
    "        state = transitions[state][text[i]]\n",
    "        if state == m:\n",
    "            matches.append(i - state + 1)\n",
    "    return matches"
   ]
  },
  {
   "cell_type": "code",
   "execution_count": 5,
   "metadata": {},
   "outputs": [],
   "source": [
    "def fsm_pattern(text, pattern, alphabet=alphabetAlphanum):\n",
    "    return fsm_match(text, fsm_function(pattern, alphabet), alphabet)"
   ]
  },
  {
   "cell_type": "markdown",
   "metadata": {},
   "source": [
    "### 3. Algorytm KMP (Knutha-Morrisa-Pratta)"
   ]
  },
  {
   "cell_type": "code",
   "execution_count": 6,
   "metadata": {},
   "outputs": [],
   "source": [
    "def kmp_function(pattern):\n",
    "    n = len(pattern)\n",
    "    pi = [0]\n",
    "    k = 0\n",
    "    for i in range(1, n):\n",
    "        while k > 0 and pattern[k] != pattern[i]:\n",
    "            k = pi[k-1]\n",
    "        if pattern[k] == pattern[i]:\n",
    "            k += 1\n",
    "        pi.append(k)\n",
    "\n",
    "    return pi"
   ]
  },
  {
   "cell_type": "code",
   "execution_count": 7,
   "metadata": {},
   "outputs": [],
   "source": [
    "def kmp_pattern(text, pattern, pi=None):\n",
    "    if pi is None:\n",
    "        pi = kmp_function(pattern)\n",
    "    n, m = len(text), len(pattern)\n",
    "    state = 0\n",
    "    matches = []\n",
    "    for i in range(n):\n",
    "        while state > 0 and pattern[state] != text[i]:\n",
    "            state = pi[state-1]\n",
    "        if pattern[state] == text[i]:\n",
    "            state += 1\n",
    "        if state == m:\n",
    "            matches.append(i - m + 1)\n",
    "            state = pi[state - 1]\n",
    "            \n",
    "    return matches"
   ]
  },
  {
   "cell_type": "markdown",
   "metadata": {},
   "source": [
    "## Testy poprawności"
   ]
  },
  {
   "cell_type": "markdown",
   "metadata": {},
   "source": [
    "W poniższym tekście znajdują się 2 wystąpienia naszego wzorca. Możemy porównać otrzymany wyniki między sobą lub inaczej zweryfikować, że otrzymane wyniki są poprawne."
   ]
  },
  {
   "cell_type": "code",
   "execution_count": 8,
   "metadata": {},
   "outputs": [
    {
     "name": "stdout",
     "output_type": "stream",
     "text": [
      "naive_match matches: ipsum ipsum\n",
      "Shifts: 6 522\n",
      "fsm_pattern matches: ipsum ipsum\n",
      "Shifts: 6 522\n",
      "kmp_pattern matches: ipsum ipsum\n",
      "Shifts: 6 522\n"
     ]
    }
   ],
   "source": [
    "pattern = \"ipsum\"\n",
    "text = \"\"\"Lorem ipsum dolor sit amet, consectetur adipiscing elit.\n",
    "        Quisque lobortis magna at arcu euismod, vitae mattis nibh ultricies.\n",
    "        Praesent faucibus nisl sit amet elit malesuada, et rhoncus purus dictum.\n",
    "        Morbi in iaculis sapien, posuere sollicitudin urna. Pellentesque lorem mauris,\n",
    "        accumsan at augue eu, iaculis sollicitudin lorem. Aliquam a consequat sapien,\n",
    "        vel molestie ex. Curabitur pretium orci eget lobortis viverra.\n",
    "        Curabitur commodo sem et tellus dapibus, vel hendrerit ipsum pretium.\n",
    "        Nullam nisi urna, consectetur vitae finibus vel, posuere sed nibh.\n",
    "        Morbi cursus tempor hendrerit. Aliquam non tristique risus.\"\"\"\n",
    "\n",
    "algos = [naive_match, fsm_pattern, kmp_pattern]\n",
    "for algo in algos:\n",
    "    matches = algo(text, pattern)\n",
    "    print(algo.__name__, \"matches:\", *[text[match:match+len(pattern)] for match in matches])\n",
    "    print(\"Shifts:\",*matches)"
   ]
  },
  {
   "cell_type": "markdown",
   "metadata": {},
   "source": [
    "## Testy szybkości"
   ]
  },
  {
   "cell_type": "markdown",
   "metadata": {},
   "source": [
    "W poniższej komórce możemy wybrać jeden z dwóch testów szybkości. Wypisywane są czasy otrzymane przez kolejne algorytmy, liczba znalezionych wystąpień, a także weryfikacja czy znalezione wystąpienia rzeczywiście są takie same jak zadany pattern."
   ]
  },
  {
   "cell_type": "code",
   "execution_count": 9,
   "metadata": {},
   "outputs": [],
   "source": [
    "test = 1\n",
    "# 1) Pan Tadeusz with pattern \"Tadeusz\"\n",
    "if test == 1:\n",
    "    pattern = \"Tadeusz\"\n",
    "\n",
    "    with open(\"pan-tadeusz.txt\", \"r\", encoding='utf-8') as f:\n",
    "        text = f.read()\n",
    "# 2) \"aba\" * bigNumber and pattern \"abab\"\n",
    "elif test == 2:\n",
    "    pattern = \"abaa\"\n",
    "    text = \"aba\" * 1000000"
   ]
  },
  {
   "cell_type": "code",
   "execution_count": 10,
   "metadata": {},
   "outputs": [
    {
     "name": "stdout",
     "output_type": "stream",
     "text": [
      "0.08203268051147461\n",
      "184\n",
      "All good\n",
      "0.06451797485351562\n",
      "184\n",
      "All good\n",
      "0.05345296859741211\n",
      "184\n",
      "All good\n"
     ]
    }
   ],
   "source": [
    "import time\n",
    "\n",
    "algos = [naive_match, fsm_pattern, kmp_pattern]\n",
    "for algo in algos:\n",
    "    start = time.time()\n",
    "    matches = algo(text, pattern)\n",
    "    print(time.time() - start)\n",
    "    print(len(matches))\n",
    "    for s in [text[match:match+len(pattern)] for match in matches]:\n",
    "        if s != pattern:\n",
    "            print(\"Some weird stuff found\")\n",
    "            break\n",
    "    else:\n",
    "        print(\"All good\")"
   ]
  },
  {
   "cell_type": "markdown",
   "metadata": {},
   "source": [
    "### Testy czasowe o większych rozmiarach"
   ]
  },
  {
   "cell_type": "markdown",
   "metadata": {},
   "source": [
    "Poniższe testy mierzą czas wykonania każdego z algorytmów (łącznie z preprocessingiem, tam gdzie jest konieczny) dla wielokrotnego powtórzenia \"bimbambom\" i wzorca \"bimbam\". Dla tego przykładu widzimy, że łączny czas wykonania jest najkrótszy dla algorytmów naiwnego i automatu skończonego."
   ]
  },
  {
   "cell_type": "code",
   "execution_count": 11,
   "metadata": {},
   "outputs": [
    {
     "name": "stdout",
     "output_type": "stream",
     "text": [
      "NAIVE_TIME    FSM_TIME   KMP_TIME\n",
      "   0.01597    0.01900    0.01900 \n",
      "   0.04730    0.05400    0.05700 \n",
      "   0.07940    0.08612    0.09733 \n",
      "   0.11334    0.12297    0.13453 \n",
      "   0.14628    0.16051    0.17395 \n",
      "   0.17677    0.18510    0.21388 \n",
      "   0.21495    0.21607    0.25521 \n",
      "   0.25134    0.25492    0.29331 \n",
      "   0.27755    0.29157    0.32611 \n",
      "   0.30917    0.31567    0.36906 \n",
      "   0.34253    0.34833    0.40768 \n",
      "   0.37371    0.39160    0.43863 \n",
      "   0.41687    0.42597    0.48702 \n",
      "   0.44660    0.47090    0.51660 \n",
      "   0.48049    0.50287    0.55480 \n",
      "   0.48645    0.53472    0.59563 \n",
      "   0.54279    0.57793    0.65225 \n",
      "   0.56363    0.61979    0.68469 \n",
      "   0.62364    0.66143    0.72011 \n",
      "   0.62718    0.64782    0.73992 \n",
      "   0.65271    0.66363    0.76927 \n",
      "   0.68086    0.72932    0.80290 \n",
      "   0.72151    0.73438    0.83583 \n",
      "   0.73886    0.76817    0.87068 \n",
      "   0.78389    0.80397    0.91838 \n",
      "   0.80253    0.80821    0.96135 \n",
      "   0.83709    0.87949    1.00921 \n",
      "   0.90189    0.94572    1.08152 \n",
      "   0.90975    0.93751    1.09005 \n",
      "   1.00765    1.00407    1.10360 \n",
      "   0.95651    1.05672    1.16800 \n",
      "   1.06429    1.10334    1.25562 \n",
      "   1.07156    1.10781    1.24466 \n",
      "   1.13533    1.18311    1.33342 \n",
      "   1.15806    1.19534    1.37796 \n",
      "   1.19398    1.19765    1.35790 \n",
      "   1.15404    1.19836    1.36465 \n",
      "   1.24808    1.35610    1.49950 \n",
      "   1.27856    1.33262    1.53523 \n",
      "   1.52585    1.48970    1.57500 \n",
      "   1.29460    1.33650    1.57129 \n",
      "   1.36789    1.42615    1.63788 \n",
      "   1.42134    1.48295    1.61258 \n",
      "   1.44495    1.47666    1.64702 \n",
      "   1.44582    1.48215    1.68453 \n",
      "   1.61392    1.65404    1.84457 \n",
      "   1.47838    1.56533    1.85115 \n",
      "   1.54527    1.62576    1.95198 \n",
      "   1.71640    1.69061    1.83813 \n",
      "   1.71164    1.69812    1.94825 \n"
     ]
    },
    {
     "data": {
      "image/png": "[encoded data removed]",
      "text/plain": [
       "<Figure size 432x288 with 1 Axes>"
      ]
     },
     "metadata": {
      "needs_background": "light"
     },
     "output_type": "display_data"
    }
   ],
   "source": [
    "algos = [naive_match, fsm_pattern, kmp_pattern]\n",
    "times = []\n",
    "print(\"NAIVE_TIME    FSM_TIME   KMP_TIME\")\n",
    "for i in range(10000, 1000001, 20000):\n",
    "    this = []\n",
    "    text = \"bimbambom\" * i\n",
    "    pattern = \"bimbam\"\n",
    "    for algo in algos:\n",
    "        start = time.time()\n",
    "        algo(text, pattern)\n",
    "        end = time.time()\n",
    "        this.append(end - start)\n",
    "    for x in this:\n",
    "        print(\"{:10.5f}\".format(x), end=' ')\n",
    "    print()\n",
    "    times.append(this)\n",
    "\n",
    "import matplotlib.pyplot as plt\n",
    "fig, ax = plt.subplots()\n",
    "ax.scatter([9 * i for i in range(10000, 1000001, 20000)], [t[0] for t in times], label=\"Naive\")\n",
    "ax.scatter([9 * i for i in range(10000, 1000001, 20000)], [t[1] for t in times], label=\"FSM\")\n",
    "ax.scatter([9 * i for i in range(10000, 1000001, 20000)], [t[2] for t in times], label=\"KMP\")\n",
    "ax.legend()\n",
    "ax.set_xlabel(\"Text length\")\n",
    "ax.set_ylabel(\"Time [s]\")\n",
    "plt.show()"
   ]
  },
  {
   "cell_type": "markdown",
   "metadata": {},
   "source": [
    "### Wyszukiwanie \"art\" w załączonej ustawie"
   ]
  },
  {
   "cell_type": "markdown",
   "metadata": {},
   "source": [
    "Pomiar czasów wyszukiwania wzorca \"art\" w ustawie, oraz liczba znalezionych wystąpień. Warto w tym momencie podkreślić, że algorytmy są wrażliwe na wielkość znaków."
   ]
  },
  {
   "cell_type": "code",
   "execution_count": 12,
   "metadata": {},
   "outputs": [
    {
     "name": "stdout",
     "output_type": "stream",
     "text": [
      "   Naive[s]   FSM[s]     KMP[s]\n",
      "   0.04529    0.03123    0.03299 \n",
      "273 matches\n"
     ]
    }
   ],
   "source": [
    "with open(\"ustawa.txt\", \"r\", encoding='utf-8') as f:\n",
    "    text = f.read()\n",
    "pattern = \"art\"\n",
    "algos = [naive_match, fsm_pattern, kmp_pattern]\n",
    "print(\"   Naive[s]   FSM[s]     KMP[s]\")\n",
    "for algo in algos:\n",
    "    start = time.time()\n",
    "    matches = algo(text, pattern)\n",
    "    end = time.time()\n",
    "    print(\"{:10.5f}\".format(end - start), end=' ')\n",
    "print(f\"\\n{len(matches)} matches\")"
   ]
  },
  {
   "cell_type": "markdown",
   "metadata": {},
   "source": [
    "### Wyszukiwanie \"Ukraina\" w podanym pliku z Wikipedii --- pliku nie zamieszczono wraz z zadaniem na UPEL ze względu na jego rozmiar."
   ]
  },
  {
   "cell_type": "markdown",
   "metadata": {},
   "source": [
    "Analogiczna analiza jak dla pliku wyżej - tym razem w dłuższym fragmencie tekstu. Czas wykonania przez algorytm KMP jest blisko 2 razy krótszy niż czas wykonania dla algorytmu naiwnego. Warto podkreślić że nadal jest to czas wykonania uwzględniający preprocessing wzorca i alfabetu."
   ]
  },
  {
   "cell_type": "code",
   "execution_count": 13,
   "metadata": {},
   "outputs": [
    {
     "name": "stdout",
     "output_type": "stream",
     "text": [
      "  Naive[s]   FSM[s]     KMP[s]\n",
      "  17.13500   11.95026    9.61697 \n",
      "289 matches\n"
     ]
    }
   ],
   "source": [
    "with open(\"passages-head.tsv\", \"r\", encoding='utf-8') as f:\n",
    "    text = f.read()\n",
    "\n",
    "pattern = \"Ukraina\"\n",
    "algos = [naive_match, fsm_pattern, kmp_pattern]\n",
    "print(\"  Naive[s]   FSM[s]     KMP[s]\")\n",
    "for algo in algos:\n",
    "    start = time.time()\n",
    "    matches = algo(text, pattern)\n",
    "    end = time.time()\n",
    "    print(\"{:10.5f}\".format(end - start), end=' ')\n",
    "print(f\"\\n{len(matches)} matches\")"
   ]
  },
  {
   "cell_type": "markdown",
   "metadata": {},
   "source": [
    "## Propozycja tekstu i wzorca"
   ]
  },
  {
   "cell_type": "markdown",
   "metadata": {},
   "source": [
    "Poniżej znajduje się wzorzec wraz z tekstem, dla których czas wykonania algorytmu naiwnego jest ponad 5-krotnie dłuższy niż dla pozostałych dwóch algorytmów (nie uwzględniając czasu preprocessingu). Mimo to, zaoszczędzony dzięki wcześniejszemu przetworzeniu danych w algorytmie automatu skończonego jest pomijalnie mały względem czasu, który był poświęcony na ich przetworzenie - zaoszczędzono około 15ms, podczas gdy samo przetworzenie danych tym algorytmem zajęło powyżej minuty. Znacznie lepsze rezultaty osiągamy dzięki algorytmowi KMP.<br>\n",
    "Konstruując przykład, w którym algorytm naiwny będzie wielokrotnie wolniejszy od pozostałych należało zwrócić uwagę na złożoności algorytmów. Podczas gdy dla KMP i automatu skończonego są to czasy liniowo zależne od długości tekstu, złożoność algorytmu naiwnego zależała również od długości wzorca - to dlatego dobrany wzorzec jest tak długi."
   ]
  },
  {
   "cell_type": "markdown",
   "metadata": {},
   "source": [
    "<h1><font color=\"red\"> Uwaga, preprocessing w poniższym kodzie może zająć kilka minut </font></h1>"
   ]
  },
  {
   "cell_type": "code",
   "execution_count": 14,
   "metadata": {},
   "outputs": [
    {
     "name": "stdout",
     "output_type": "stream",
     "text": [
      "Naive: 0.21483922004699707 [s]\n",
      "FSM (without preprocessing): 0.025040149688720703 [s]\n",
      "KMP (without preprocessing): 0.03754854202270508 [s]\n"
     ]
    }
   ],
   "source": [
    "pattern = \"aaaaaaaaa\" * 1500\n",
    "text = \"b\" + \"aaaaaaaaa\" * 10000\n",
    "\n",
    "start = time.time()\n",
    "naive_match(text, pattern)\n",
    "end = time.time()\n",
    "print(\"Naive:\", end - start, \"[s]\")\n",
    "\n",
    "# alphabet = alphabetAlphanum\n",
    "alphabet = set(['a', 'b'])\n",
    "transitions = fsm_function(pattern, alphabet)\n",
    "start = time.time()\n",
    "fsm_match(text, transitions, alphabet)\n",
    "end = time.time()\n",
    "print(\"FSM (without preprocessing):\", end - start, \"[s]\")\n",
    "\n",
    "pi = kmp_function(pattern)\n",
    "start = time.time()\n",
    "kmp_pattern(text, pattern, pi)\n",
    "end = time.time()\n",
    "print(\"KMP (without preprocessing):\", end - start, \"[s]\")\n",
    "\n",
    "# Przykładowe otrzymane wyniki:\n",
    "# Naive: 0.21483922004699707 [s]\n",
    "# FSM (without preprocessing): 0.025040149688720703 [s]\n",
    "# KMP (without preprocessing): 0.03754854202270508 [s]"
   ]
  },
  {
   "cell_type": "markdown",
   "metadata": {},
   "source": [
    "## Porównanie czasu preprocessingu"
   ]
  },
  {
   "cell_type": "markdown",
   "metadata": {},
   "source": [
    "Aby otrzymać przykład w którym czas konstrukcji funkcji przejścia jest wielokrotnie mniejszy dla KMP niż dla automatu skończonego wystarczy dobrać odpowiednio długi wzorzec. Poniżej został wykorzystany wzorzec \"aaaaaaaaa\" powtórzony 500 razy, oraz alfabet składający się jedynie z liter a i b. Jak widać otrzymane czasy różniły się znacząco."
   ]
  },
  {
   "cell_type": "code",
   "execution_count": 15,
   "metadata": {},
   "outputs": [
    {
     "name": "stdout",
     "output_type": "stream",
     "text": [
      "FSM preprocessing: 22.513567209243774\n",
      "KMP preprocessing: 0.002003908157348633\n"
     ]
    }
   ],
   "source": [
    "pattern = \"aaaaaaaaa\" * 500\n",
    "# alphabet = alphabetAlphanum\n",
    "alphabet = set(['a', 'b'])\n",
    "\n",
    "start = time.time()\n",
    "transitions = fsm_function(pattern, alphabet)\n",
    "end = time.time()\n",
    "\n",
    "print(\"FSM preprocessing:\", end - start)\n",
    "\n",
    "\n",
    "start = time.time()\n",
    "pi = kmp_function(pattern)\n",
    "end = time.time()\n",
    "\n",
    "print(\"KMP preprocessing:\", end - start)"
   ]
  }
 ],
 "metadata": {
  "kernelspec": {
   "display_name": "Python 3",
   "language": "python",
   "name": "python3"
  },
  "language_info": {
   "codemirror_mode": {
    "name": "ipython",
    "version": 3
   },
   "file_extension": ".py",
   "mimetype": "text/x-python",
   "name": "python",
   "nbconvert_exporter": "python",
   "pygments_lexer": "ipython3",
   "version": "3.8.5"
  }
 },
 "nbformat": 4,
 "nbformat_minor": 4
}
