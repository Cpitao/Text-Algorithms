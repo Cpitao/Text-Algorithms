{
 "cells": [
  {
   "cell_type": "markdown",
   "metadata": {},
   "source": [
    "# Algorytmy tekstowe - odległość edycyjna"
   ]
  },
  {
   "cell_type": "code",
   "execution_count": 1,
   "metadata": {},
   "outputs": [],
   "source": [
    "import numpy as np\n",
    "from spacy.tokenizer import Tokenizer\n",
    "from spacy.lang.pl import Polish"
   ]
  },
  {
   "cell_type": "markdown",
   "metadata": {},
   "source": [
    "## Dane testowe"
   ]
  },
  {
   "cell_type": "code",
   "execution_count": 2,
   "metadata": {},
   "outputs": [],
   "source": [
    "tests = [(\"los\", \"kloc\"),\n",
    "         (\"Łódź\", \"Lodz\"),\n",
    "         (\"kwintesencja\", \"quintessence\"),\n",
    "         (\"ATGAATCTTACCGCCTCG\", \"ATGAGGCTCTGGCCCCTG\")]"
   ]
  },
  {
   "cell_type": "markdown",
   "metadata": {},
   "source": [
    "## Algorytm obliczający odległość edycyjną, pozwalający odtworzyć rozwiązanie"
   ]
  },
  {
   "cell_type": "code",
   "execution_count": 3,
   "metadata": {},
   "outputs": [],
   "source": [
    "def get_editorial_dist(text1, text2):\n",
    "    n1, n2 = len(text1), len(text2)\n",
    "    A = [[None] * (n1+1) for _ in range(n2+1)]\n",
    "    \n",
    "    # initial edge values\n",
    "    A[0][0] = (0, None)\n",
    "    for i in range(1, n1+1):\n",
    "        A[0][i] = (i, (0, i-1))\n",
    "    for j in range(1, n2+1):\n",
    "        A[j][0] = (j, (j-1, 0))\n",
    "    \n",
    "    # fill array, with indices of where to go next to get back the solution\n",
    "    for i in range(1, n1+1):\n",
    "        for j in range(1, n2+1):\n",
    "            # if letters are different, add 1\n",
    "            add = 1\n",
    "            if text1[i-1] == text2[j-1]:\n",
    "                add = 0\n",
    "\n",
    "            x = min(A[j-1][i][0]+1, A[j][i-1][0]+1, A[j-1][i-1][0]+add)\n",
    "            if A[j-1][i][0] + 1 == x:\n",
    "                A[j][i] = (x, (j-1, i))\n",
    "            elif A[j][i-1][0] + 1 == x:\n",
    "                A[j][i] = (x, (j, i-1))\n",
    "            else:\n",
    "                A[j][i] = (x, (j-1, i-1))\n",
    "\n",
    "    return A, A[-1][-1][0]"
   ]
  },
  {
   "cell_type": "markdown",
   "metadata": {},
   "source": [
    "## Funkcja wizualizująca w jaki sposób otrzymano rozwiązanie"
   ]
  },
  {
   "cell_type": "code",
   "execution_count": 4,
   "metadata": {},
   "outputs": [],
   "source": [
    "def get_solution(A, text1, text2):\n",
    "    solution = [(len(text2), len(text1))]\n",
    "    while solution[-1] is not None:\n",
    "        solution.append(A[solution[-1][0]][solution[-1][1]][1])\n",
    "    \n",
    "    solution.reverse()\n",
    "    n = len(solution)\n",
    "    print(text1)\n",
    "    for i in range(2, n):\n",
    "        prev = np.array(solution[i-1])\n",
    "        curr = np.array(solution[i])\n",
    "        # no change made\n",
    "        if np.all(prev + np.array((1, 1)) == curr) and text1[max(curr[1]-1, 0)] == text2[max(curr[0]-1, 0)]:\n",
    "            continue\n",
    "        \n",
    "        # current letter must have been swapped\n",
    "        if np.all(prev + np.array((1, 1)) == curr):\n",
    "            print(f\"{text2[:max(curr[0]-1, 0)]}*{text2[max(curr[0]-1, 0)]}*{text1[curr[1]:]}\")\n",
    "        \n",
    "        # letter from text2 must have been inserted\n",
    "        elif np.all(prev + np.array((1, 0)) == curr):\n",
    "            print(f\"{text2[:max(curr[0]-1, 0)]}*{text2[max(curr[0]-1, 0)]}*{text1[curr[1]:]}\")\n",
    "        \n",
    "        # letter from text1 must have been deleted\n",
    "        elif np.all(prev + np.array((0, 1)) == curr):\n",
    "            print(f\"{text2[:max(curr[0], 0)]}**{text1[max(curr[1], 0):]}\")"
   ]
  },
  {
   "cell_type": "markdown",
   "metadata": {},
   "source": [
    "## Wizualizacja na zadanych testach"
   ]
  },
  {
   "cell_type": "code",
   "execution_count": 5,
   "metadata": {},
   "outputs": [
    {
     "name": "stdout",
     "output_type": "stream",
     "text": [
      "Test #0, text1=los, text2=kloc\n",
      "los\n",
      "*k*los\n",
      "klo*c*\n",
      "------------------------------\n",
      "Test #1, text1=Łódź, text2=Lodz\n",
      "Łódź\n",
      "*L*ódź\n",
      "L*o*dź\n",
      "Lod*z*\n",
      "------------------------------\n",
      "Test #2, text1=kwintesencja, text2=quintessence\n",
      "kwintesencja\n",
      "*q*wintesencja\n",
      "q*u*intesencja\n",
      "quintes*s*encja\n",
      "quintessenc*e*a\n",
      "quintessence**\n",
      "------------------------------\n",
      "Test #3, text1=ATGAATCTTACCGCCTCG, text2=ATGAGGCTCTGGCCCCTG\n",
      "ATGAATCTTACCGCCTCG\n",
      "ATGA*G*TCTTACCGCCTCG\n",
      "ATGAG*G*CTTACCGCCTCG\n",
      "ATGAGGCT*C*TACCGCCTCG\n",
      "ATGAGGCTCT*G*CCGCCTCG\n",
      "ATGAGGCTCTG*G*CCGCCTCG\n",
      "ATGAGGCTCTGGCC**CCTCG\n",
      "ATGAGGCTCTGGCCCCT**G\n",
      "------------------------------\n"
     ]
    }
   ],
   "source": [
    "for i, t in enumerate(tests):\n",
    "    text1 = t[0]\n",
    "    text2 = t[1]\n",
    "    print(f\"Test #{i}, text1={text1}, text2={text2}\")\n",
    "    A, swaps = get_editorial_dist(text1, text2)\n",
    "    get_solution(A, text1, text2)\n",
    "    print(\"------------------------------\")"
   ]
  },
  {
   "cell_type": "markdown",
   "metadata": {},
   "source": [
    "## Najdłuższy wspólny podciąg"
   ]
  },
  {
   "cell_type": "code",
   "execution_count": 6,
   "metadata": {},
   "outputs": [],
   "source": [
    "def longest_common_sequence(text1, text2):\n",
    "    n1, n2 = len(text1), len(text2)\n",
    "    A = [[None] * (n1+1) for _ in range(n2+1)]\n",
    "    \n",
    "    # initial edge values\n",
    "    A[0][0] = 0\n",
    "    for i in range(1, n1+1):\n",
    "        A[0][i] = i\n",
    "    for j in range(1, n2+1):\n",
    "        A[j][0] = j\n",
    "    \n",
    "    # fill array, with indices of where to go next to get back the solution\n",
    "    for i in range(1, n1+1):\n",
    "        for j in range(1, n2+1):\n",
    "            # if letters are different, add 1\n",
    "            add = 1\n",
    "            if text1[i-1] == text2[j-1]:\n",
    "                add = 0\n",
    "\n",
    "            x = min(A[j-1][i]+1, A[j][i-1]+1)\n",
    "            if add == 0:\n",
    "                x = min(x, A[j-1][i-1])\n",
    "            A[j][i] = x\n",
    "\n",
    "    return (n1 + n2 - A[-1][-1]) // 2"
   ]
  },
  {
   "cell_type": "code",
   "execution_count": 7,
   "metadata": {},
   "outputs": [
    {
     "name": "stdout",
     "output_type": "stream",
     "text": [
      "Test #0, text1=los, text2=kloc\n",
      "LCS: 2\n",
      "------------------------------\n",
      "Test #1, text1=Łódź, text2=Lodz\n",
      "LCS: 1\n",
      "------------------------------\n",
      "Test #2, text1=kwintesencja, text2=quintessence\n",
      "LCS: 8\n",
      "------------------------------\n",
      "Test #3, text1=ATGAATCTTACCGCCTCG, text2=ATGAGGCTCTGGCCCCTG\n",
      "LCS: 13\n",
      "------------------------------\n"
     ]
    }
   ],
   "source": [
    "for i, t in enumerate(tests):\n",
    "    text1 = t[0]\n",
    "    text2 = t[1]\n",
    "    print(f\"Test #{i}, text1={text1}, text2={text2}\")\n",
    "    print(f\"LCS: {longest_common_sequence(text1, text2)}\")\n",
    "    print(\"------------------------------\")"
   ]
  },
  {
   "cell_type": "markdown",
   "metadata": {},
   "source": [
    "## Wczytanie tekstu"
   ]
  },
  {
   "cell_type": "code",
   "execution_count": 8,
   "metadata": {},
   "outputs": [],
   "source": [
    "text = \"\"\n",
    "with open(\"romeo-i-julia-700.txt\", \"r\", encoding=\"utf-8\") as f:\n",
    "    text = f.read()"
   ]
  },
  {
   "cell_type": "markdown",
   "metadata": {},
   "source": [
    "## Tokenizacja Spacy'm"
   ]
  },
  {
   "cell_type": "code",
   "execution_count": 9,
   "metadata": {
    "scrolled": true
   },
   "outputs": [],
   "source": [
    "nlp = Polish()\n",
    "tokenizer = nlp.tokenizer\n",
    "tokens = tokenizer(text)"
   ]
  },
  {
   "cell_type": "code",
   "execution_count": 10,
   "metadata": {},
   "outputs": [
    {
     "name": "stdout",
     "output_type": "stream",
     "text": [
      "tokens: 2699\n",
      "sample1 length: 2618\n",
      "sample2 length: 2618\n"
     ]
    }
   ],
   "source": [
    "# Generate random samples of indexes, which will be used for sampling tokens\n",
    "size_list = [i for i in range(len(tokens))]\n",
    "num_sample1 = sorted(np.random.choice(size_list, int(len(tokens)*0.97), replace=False))\n",
    "num_sample2 = sorted(np.random.choice(size_list, int(len(tokens)*0.97), replace=False))\n",
    "\n",
    "sample1 = [tokens[i] for i in num_sample1]\n",
    "sample2 = [tokens[i] for i in num_sample2]\n",
    "\n",
    "print(f\"tokens: {len(tokens)}\\nsample1 length: {len(sample1)}\\nsample2 length: {len(sample2)}\")"
   ]
  },
  {
   "cell_type": "code",
   "execution_count": 11,
   "metadata": {},
   "outputs": [
    {
     "data": {
      "text/plain": [
       "2540"
      ]
     },
     "execution_count": 11,
     "metadata": {},
     "output_type": "execute_result"
    }
   ],
   "source": [
    "longest_common_sequence(sample1, sample2)"
   ]
  },
  {
   "cell_type": "markdown",
   "metadata": {},
   "source": [
    "## Diff"
   ]
  },
  {
   "cell_type": "code",
   "execution_count": 12,
   "metadata": {},
   "outputs": [],
   "source": [
    "def diff_lcs(text1, text2):\n",
    "    n1, n2 = len(text1), len(text2)\n",
    "    A = [[None] * (n1+1) for _ in range(n2+1)]\n",
    "    previous = [[None] * (n1+1) for _ in range(n2+1)]\n",
    "    \n",
    "    # initial edge values\n",
    "    A[0][0] = 0\n",
    "    for i in range(1, n1+1):\n",
    "        A[0][i] = i\n",
    "        previous[0][i] = (0, i-1)\n",
    "    for j in range(1, n2+1):\n",
    "        A[j][0] = j\n",
    "        previous[j][0] = (j-1, 0)\n",
    "    \n",
    "    # fill array, with indices of where to go next to get back the solution\n",
    "    for i in range(1, n1+1):\n",
    "        for j in range(1, n2+1):\n",
    "            # if tokens are different, add 1\n",
    "            add = 1\n",
    "            if text1[i-1] == text2[j-1]:\n",
    "                add = 0\n",
    "\n",
    "            x = min(A[j-1][i]+1, A[j][i-1]+1)\n",
    "            if add == 0:\n",
    "                x = min(x, A[j-1][i-1])\n",
    "            A[j][i] = x\n",
    "            \n",
    "            if A[j][i] == A[j-1][i-1] and add == 0:\n",
    "                previous[j][i] = (j-1, i-1)\n",
    "            elif A[j][i] == A[j-1][i]+1:\n",
    "                previous[j][i] = (j-1, i)\n",
    "            elif A[j][i] == A[j][i-1]+1:\n",
    "                previous[j][i] = (j, i-1)\n",
    "\n",
    "    return previous, A[-1][-1]"
   ]
  },
  {
   "cell_type": "code",
   "execution_count": 13,
   "metadata": {},
   "outputs": [],
   "source": [
    "def diff(text1, text2):\n",
    "    lines1 = text1.split(sep='\\n')\n",
    "    lines2 = text2.split(sep='\\n')\n",
    "    lcs, changes = diff_lcs(lines1, lines2)\n",
    "    current = (len(lines2), len(lines1))\n",
    "    sequence = [current]\n",
    "    while current is not None:\n",
    "        current = lcs[current[0]][current[1]]\n",
    "        sequence.append(current)\n",
    "    \n",
    "    sequence.reverse()\n",
    "    print(f\"{changes} differences\")\n",
    "    for i in range(2, len(sequence)):\n",
    "        if np.all(np.array(sequence[i-1]) + np.array([1, 0]) == np.array(sequence[i])):\n",
    "            print(f\"> {sequence[i][0]}\\n{lines2[sequence[i][0]-1]}\")\n",
    "        elif np.all(np.array(sequence[i-1]) + np.array([0, 1]) == np.array(sequence[i])):\n",
    "            print(f\"< {sequence[i][1]}\\n{lines1[sequence[i][1]-1]}\")"
   ]
  },
  {
   "cell_type": "code",
   "execution_count": 14,
   "metadata": {},
   "outputs": [
    {
     "name": "stdout",
     "output_type": "stream",
     "text": [
      "3 differences\n",
      "< 1\n",
      "abc\n",
      "> 1\n",
      "xyz\n",
      "> 4\n",
      "qwe\n"
     ]
    }
   ],
   "source": [
    "diff(\"abc\\ndef\\nghi\", \"xyz\\ndef\\nghi\\nqwe\")"
   ]
  },
  {
   "cell_type": "code",
   "execution_count": 15,
   "metadata": {},
   "outputs": [
    {
     "name": "stdout",
     "output_type": "stream",
     "text": [
      "44 differences\n",
      "> 15\n",
      " * ROMEO — syn Montekiego\n",
      "> 78\n",
      "Dalipan, Grzegorzu, nie będziem darli pierza.\n",
      "> 111\n",
      "GRZEGORZ\n",
      "< 116\n",
      "\n",
      "< 138\n",
      "GRZEGORZ\n",
      "< 150\n",
      "Tym lepiej, że się liczysz do zwierząt; bo gdybyś się liczył do ryb, to byłbyś pewnie sztokfiszem. Weź no się za instrument, bo oto nadchodzi dwóch domowników Montekiego.\n",
      "< 191\n",
      "\n",
      "> 192\n",
      "Skrzywiłeś się na nas, mości panie?\n",
      "< 247\n",
      "/ Benwolio ukazuje się w głębi. /\n",
      "< 260\n",
      "\n",
      "> 271\n",
      "\n",
      "< 284\n",
      "\n",
      "< 288\n",
      "Przywracam tylko pokój. Włóż miecz nazad\n",
      "< 299\n",
      "/ Walczą. Nadchodzi kilku przyjaciół obu partii i mieszają się do zwady; wkrótce potem wchodzą mieszczanie z pałkami. /\n",
      "> 299\n",
      "\n",
      "< 323\n",
      "I szydnie swoją klingą mi urąga.\n",
      "< 325\n",
      "/ Wchodzą Monteki i Pani Monteki. /\n",
      "< 332\n",
      "/ do żony /\n",
      "> 334\n",
      "\n",
      "> 335\n",
      "/ Wchodzi Książę z orszakiem. /\n",
      "> 336\n",
      "\n",
      "> 378\n",
      "\n",
      "< 423\n",
      "A chmury — swego oblicza chmurami,\n",
      "< 431\n",
      "W czarne bezdroża dusza jego zajdzie,\n",
      "> 469\n",
      "Obyś w tej sprawie, co nam serce rani,\n",
      "> 470\n",
      "Mógł być szczęśliwszym od nas! Pójdźmy, pani.\n",
      "> 486\n",
      "\n",
      "> 528\n",
      "\n",
      "< 534\n",
      "\n",
      "> 535\n",
      "Miłość na oślep zawsze cel swój goni!\n",
      "< 560\n",
      "BENWOLIO\n",
      "< 563\n",
      "Poczciwej duszy twojej.\n",
      "< 564\n",
      "\n",
      "< 570\n",
      "Dość mi już ciężył mój smutek, ty jego\n",
      "< 575\n",
      "To dym, co z parą westchnień się unosi;\n",
      "> 613\n",
      "Pisać testament: będzie–ż to wezwanie\n",
      "> 614\n",
      "Dobre dla tego, kto jest w tak złym stanie?\n",
      "> 632\n",
      "                        W piękny cel trafić najłatwiej.\n",
      "> 644\n",
      "Bogata w wdzięki, w tym jedynie biedna,\n",
      "< 650\n",
      "BENWOLIO\n",
      "> 649\n",
      "\n",
      "> 671\n",
      "Doradź–że także, jakim bym sposobem\n",
      "> 672\n",
      "Mógł przestać myśleć.\n",
      "< 678\n",
      "\n"
     ]
    }
   ],
   "source": [
    "lines = text.split('\\n')\n",
    "num_sample1 = sorted(np.random.choice([i for i in range(len(lines))], int(len(lines)*0.97), replace=False))\n",
    "num_sample2 = sorted(np.random.choice([i for i in range(len(lines))], int(len(lines)*0.97), replace=False))\n",
    "\n",
    "sample1 = \"\".join([lines[i] + \"\\n\" for i in num_sample1])\n",
    "sample2 = \"\".join([lines[i] + \"\\n\" for i in num_sample2])\n",
    "\n",
    "diff(sample1, sample2)"
   ]
  }
 ],
 "metadata": {
  "kernelspec": {
   "display_name": "Python 3 (ipykernel)",
   "language": "python",
   "name": "python3"
  },
  "language_info": {
   "codemirror_mode": {
    "name": "ipython",
    "version": 3
   },
   "file_extension": ".py",
   "mimetype": "text/x-python",
   "name": "python",
   "nbconvert_exporter": "python",
   "pygments_lexer": "ipython3",
   "version": "3.10.4"
  }
 },
 "nbformat": 4,
 "nbformat_minor": 4
}
