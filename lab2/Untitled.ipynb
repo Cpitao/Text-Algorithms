{
 "cells": [
  {
   "cell_type": "markdown",
   "metadata": {},
   "source": [
    "# Algorytmy tekstowe - trie i drzewa sufiksów. Piotr Ignacy"
   ]
  },
  {
   "cell_type": "markdown",
   "metadata": {},
   "source": [
    "## Dane wejściowe"
   ]
  },
  {
   "cell_type": "code",
   "execution_count": 5,
   "metadata": {},
   "outputs": [],
   "source": [
    "data = [\"bbb$\", \"aabbabd\", \"ababcd\", \"abcbccd\"]\n",
    "text = None\n",
    "with open(\"1997_714_head.txt\", \"r\", encoding='utf-8') as f:\n",
    "    text = f.read()\n",
    "text += \"&\" # unikalny znak na końcu tekstu"
   ]
  },
  {
   "cell_type": "markdown",
   "metadata": {},
   "source": [
    "## Trie sufiksów"
   ]
  },
  {
   "cell_type": "code",
   "execution_count": 7,
   "metadata": {},
   "outputs": [],
   "source": [
    "class Trie:\n",
    "    \n",
    "    def __init__(self, parent=None):\n",
    "        self.value = None\n",
    "        self.parent = None\n",
    "        self.children = dict()\n",
    "        self.depth = 0\n",
    "        \n",
    "def init_trie(text):\n",
    "    root = Trie()\n",
    "    current = root\n",
    "    for c in text:\n",
    "        current.children[c] = Trie()\n",
    "        current = current.children[c]"
   ]
  },
  {
   "cell_type": "code",
   "execution_count": 9,
   "metadata": {},
   "outputs": [],
   "source": [
    "class Node:\n",
    "    counter = 1\n",
    "    \n",
    "    def __init__(self, label, depth):\n",
    "        self.children = {}\n",
    "        self.label = label\n",
    "        self.link = None\n",
    "        self.id = Node.counter\n",
    "        self.depth = depth\n",
    "        Node.counter += 1\n",
    "        \n",
    "    def dot_node(self):\n",
    "        return f'{self.id} [label=\"\", shape=\"point\"];'\n",
    "        \n",
    "    def dot_edges(self, links=True):\n",
    "        result = []\n",
    "        for child in self.children.values():\n",
    "            result.append(f'{self.id} -> {child.id}[arrowhead=\"none\", label=\" {child.label}\"];')\n",
    "        if self.link and links:\n",
    "            result.append(f'{self.id} -> {self.link.id}[color=\"blue\"];')\n",
    "        return \"\\n\".join(result)\n",
    "    \n",
    "    def all_children(self, only_leafs=False):\n",
    "        if(not only_leafs or not self.children):\n",
    "            result = [self]\n",
    "        else:\n",
    "            result = []\n",
    "        for child in self.children.values():\n",
    "            result += child.all_children(only_leafs=only_leafs)\n",
    "        return result\n",
    "    \n",
    "    def show(self, links=True):\n",
    "        nodes = self.all_children()\n",
    "        Node.show_graph(nodes, links=links)\n",
    "    \n",
    "    @staticmethod\n",
    "    def show_graph(nodes, links=True):\n",
    "        result = \"digraph{\\n\"\n",
    "        ranks = {}\n",
    "        for node in nodes:\n",
    "            result += node.dot_node() + \"\\n\"\n",
    "            result += node.dot_edges(links) + \"\\n\"\n",
    "            if(node.depth not in ranks):\n",
    "                ranks[node.depth] = []\n",
    "            ranks[node.depth].append(node.id)\n",
    "        for key, values in ranks.items():\n",
    "            values = \" \".join([f\"{v};\" for v in values])\n",
    "            result += \" { rank=same; \" + values + \"}\\n\"\n",
    "        result += \"\\n}\"\n",
    "        show_pydot(result)"
   ]
  },
  {
   "cell_type": "code",
   "execution_count": null,
   "metadata": {},
   "outputs": [],
   "source": [
    "def init_trie(text):\n",
    "    root = Node(\"\", 0)\n",
    "    current = root\n",
    "    for c in text:\n",
    "        current.children[c] = Node()\n",
    "        current = current.children[c]\n",
    "    \n",
    "    return root\n",
    "\n",
    "def build_trie(text):\n",
    "    trie = init_trie(text)\n",
    "    for i in range(1, len(text)):\n",
    "        if "
   ]
  }
 ],
 "metadata": {
  "kernelspec": {
   "display_name": "Python 3",
   "language": "python",
   "name": "python3"
  },
  "language_info": {
   "codemirror_mode": {
    "name": "ipython",
    "version": 3
   },
   "file_extension": ".py",
   "mimetype": "text/x-python",
   "name": "python",
   "nbconvert_exporter": "python",
   "pygments_lexer": "ipython3",
   "version": "3.8.5"
  }
 },
 "nbformat": 4,
 "nbformat_minor": 4
}
